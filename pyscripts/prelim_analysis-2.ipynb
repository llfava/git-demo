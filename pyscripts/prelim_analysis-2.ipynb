{
 "metadata": {
  "name": "",
  "signature": "sha256:d986a5d0663d0663e06e5ec82946d4ec31cfc5d012cb7f2b25f0bf60f2e2e391"
 },
 "nbformat": 3,
 "nbformat_minor": 0,
 "worksheets": [
  {
   "cells": [
    {
     "cell_type": "code",
     "collapsed": false,
     "input": [
      "import re\n",
      "import os\n",
      "import sys\n",
      "import json\n",
      "import time\n",
      "import glob\n",
      "import random\n",
      "import numpy\n",
      "import pylab\n",
      "import matplotlib.pyplot as plt"
     ],
     "language": "python",
     "metadata": {},
     "outputs": [],
     "prompt_number": 2
    },
    {
     "cell_type": "code",
     "collapsed": false,
     "input": [
      "json_bars = '../processed/bars_nb_latlong.json'\n",
      "\n",
      "bar_dict = json.loads(open(json_bars).read())\n",
      "bar_reviews = {}\n",
      "for key in bar_dict:\n",
      "    fname = bar_dict[key]['file_name']\n",
      "    json_reviews = '../processed/' + fname + '_nb.json'\n",
      "    try:\n",
      "        bar_reviews[fname] = json.loads(open(json_reviews).read())\n",
      "    except IOError:\n",
      "        sys.stdout.write('File not found. Skipping %s\\n' % fname)"
     ],
     "language": "python",
     "metadata": {},
     "outputs": [],
     "prompt_number": 3
    },
    {
     "cell_type": "code",
     "collapsed": false,
     "input": [
      "#Check number of user reviews matches number of reviews for bar\n",
      "complete_reviews = set()\n",
      "bars = bar_reviews.keys()\n",
      "for bar in bars:\n",
      "    if bar_dict['/biz/' + bar]['bar_num_reviews'] == len(bar_reviews[bar]):\n",
      "        complete_reviews.add(bar)\n",
      "num_bars_complete = len(complete_reviews)\n",
      "#print num_bars_complete"
     ],
     "language": "python",
     "metadata": {},
     "outputs": [],
     "prompt_number": 4
    },
    {
     "cell_type": "code",
     "collapsed": false,
     "input": [
      "#Look at number of SF reviewers to number of nonSF reviewers\n",
      "location_ratios = {}\n",
      "count = 0\n",
      "for bar in complete_reviews:\n",
      "    users = bar_reviews[bar].keys()\n",
      "    if len(users) < 10:\n",
      "        continue\n",
      "    count += 1\n",
      "    local = 0\n",
      "    for user in users:\n",
      "        if bar_reviews[bar][user]['user_location'] == 'San Francisco, CA':\n",
      "            local += 1\n",
      "    ratio = float(local) / (len(users)-local)\n",
      "    location_ratios[bar] = [ratio, local, len(users) - local]\n",
      "    print \"%.2f, %d %d %s\" % (location_ratios[bar][0], location_ratios[bar][1], location_ratios[bar][2], bar)\n",
      "print count"
     ],
     "language": "python",
     "metadata": {},
     "outputs": [
      {
       "output_type": "stream",
       "stream": "stdout",
       "text": [
        "1.32, 96 73 cafe-francisco-san-francisco-2\n",
        "0.98, 263 268 bocce-cafe-san-francisco\n",
        "1.21, 115 95 amante-san-francisco\n",
        "1.04, 148 142 columbus-cafe-san-francisco\n",
        "1.17, 150 128 church-key-san-francisco\n",
        "0.44, 77 177 atmosphere-san-francisco\n",
        "0.73, 48 66 gino-and-carlo-cocktail-lounge-san-francisco\n",
        "0.90, 129 144 bamboo-hut-san-francisco\n",
        "0.94, 67 71 monroe-san-francisco\n",
        "1.33, 130 98 grant-and-green-saloon-san-francisco\n",
        "1.07, 61 57 sweeties-san-francisco\n",
        "1.40, 196 140 rosewood-san-francisco\n",
        "1.33, 467 352 15-romolo-san-francisco\n",
        "0.89, 34 38 penthouse-club-and-restaurant-san-francisco\n",
        "1.21, 94 78 tosca-cafe-san-francisco-3\n",
        "0.71, 35 49 carbon-san-francisco\n",
        "0.94, 152 161 capos-san-francisco\n",
        "0.79, 114 145 fog-city-san-francisco-2\n",
        "2.32, 72 31 the-square-bar-and-kitchen-san-francisco\n",
        "1.40, 158 113 northstar-cafe-san-francisco\n",
        "0.33, 28 86 gold-dust-lounge-san-francisco-3\n",
        "0.65, 30 46 international-sports-club-san-francisco\n",
        "1.52, 122 80 savoy-tivoli-san-francisco-2\n",
        "0.63, 76 120 capps-corner-san-francisco\n",
        "1.15, 31 27 hawaii-west-san-francisco\n",
        "0.30, 37 122 knuckles-at-the-wharf-san-francisco-2\n",
        "1.09, 344 316 piperade-san-francisco\n",
        "0.85, 39 46 exploratorium-after-dark-san-francisco-2\n",
        "28\n"
       ]
      }
     ],
     "prompt_number": 43
    },
    {
     "cell_type": "code",
     "collapsed": false,
     "input": [
      "#Look at average local rating vs ave nonlocal rating for each bar\n",
      "ave_local_rating = {}\n",
      "ave_tourist_rating = {}\n",
      "count = 0\n",
      "for bar in complete_reviews:\n",
      "    users = bar_reviews[bar].keys()\n",
      "    if len(users) < 10:\n",
      "        continue\n",
      "    count += 1\n",
      "    local = 0\n",
      "    local_rating = 0\n",
      "    tourist_rating = 0\n",
      "    for user in users:\n",
      "        if bar_reviews[bar][user]['user_location'] == 'San Francisco, CA':\n",
      "            local += 1\n",
      "            local_rating += bar_reviews[bar][user]['user_rating']\n",
      "        else:\n",
      "            tourist_rating += bar_reviews[bar][user]['user_rating']\n",
      "    ave_local_rating[bar] =  float(local_rating)/local\n",
      "    ave_tourist_rating[bar] = float(tourist_rating)/(len(users)-local)\n",
      "                \n",
      "    print \"%.2f, %.2f %s\" % (ave_local_rating[bar], ave_tourist_rating[bar], bar)\n",
      "print count\n",
      "print ave_local_rating"
     ],
     "language": "python",
     "metadata": {},
     "outputs": [
      {
       "output_type": "stream",
       "stream": "stdout",
       "text": [
        "3.67, 3.58 cafe-francisco-san-francisco-2\n",
        "3.32, 3.36 bocce-cafe-san-francisco\n",
        "3.71, 3.91 amante-san-francisco\n",
        "3.95, 3.94 columbus-cafe-san-francisco\n",
        "4.07, 4.04 church-key-san-francisco\n",
        "2.81, 2.67 atmosphere-san-francisco\n",
        "4.17, 3.97 gino-and-carlo-cocktail-lounge-san-francisco\n",
        "3.73, 3.67 bamboo-hut-san-francisco\n",
        "3.69, 3.46 monroe-san-francisco\n",
        "3.15, 3.21 grant-and-green-saloon-san-francisco\n",
        "4.26, 3.91 sweeties-san-francisco\n",
        "3.70, 3.71 rosewood-san-francisco\n",
        "4.10, 3.93 15-romolo-san-francisco\n",
        "3.35, 3.61 penthouse-club-and-restaurant-san-francisco\n",
        "3.13, 3.54 tosca-cafe-san-francisco-3\n",
        "4.09, 3.78 carbon-san-francisco\n",
        "4.30, 4.14 capos-san-francisco\n",
        "3.50, 3.47 fog-city-san-francisco-2\n",
        "3.36, 4.16 the-square-bar-and-kitchen-san-francisco\n",
        "3.92, 4.08 northstar-cafe-san-francisco\n",
        "3.61, 4.02 gold-dust-lounge-san-francisco-3\n",
        "3.37, 3.70 international-sports-club-san-francisco\n",
        "3.25, 3.14 savoy-tivoli-san-francisco-2\n",
        "3.59, 3.17 capps-corner-san-francisco\n",
        "3.42, 3.44 hawaii-west-san-francisco\n",
        "2.62, 2.95 knuckles-at-the-wharf-san-francisco-2\n",
        "3.87, 3.93 piperade-san-francisco\n",
        "4.05, 3.87 exploratorium-after-dark-san-francisco-2\n",
        "28\n",
        "{u'bocce-cafe-san-francisco': 3.32319391634981, u'amante-san-francisco': 3.7130434782608694, u'columbus-cafe-san-francisco': 3.945945945945946, u'church-key-san-francisco': 4.073333333333333, u'atmosphere-san-francisco': 2.8051948051948052, u'gino-and-carlo-cocktail-lounge-san-francisco': 4.166666666666667, u'bamboo-hut-san-francisco': 3.7286821705426356, u'monroe-san-francisco': 3.6865671641791047, u'capos-san-francisco': 4.296052631578948, u'sweeties-san-francisco': 4.262295081967213, u'grant-and-green-saloon-san-francisco': 3.1538461538461537, u'hawaii-west-san-francisco': 3.4193548387096775, u'15-romolo-san-francisco': 4.104925053533191, u'penthouse-club-and-restaurant-san-francisco': 3.3529411764705883, u'tosca-cafe-san-francisco-3': 3.127659574468085, u'carbon-san-francisco': 4.085714285714285, u'cafe-francisco-san-francisco-2': 3.6666666666666665, u'fog-city-san-francisco-2': 3.5, u'the-square-bar-and-kitchen-san-francisco': 3.361111111111111, u'northstar-cafe-san-francisco': 3.9240506329113924, u'gold-dust-lounge-san-francisco-3': 3.607142857142857, u'international-sports-club-san-francisco': 3.3666666666666667, u'savoy-tivoli-san-francisco-2': 3.2540983606557377, u'capps-corner-san-francisco': 3.5921052631578947, u'rosewood-san-francisco': 3.704081632653061, u'knuckles-at-the-wharf-san-francisco-2': 2.6216216216216215, u'piperade-san-francisco': 3.866279069767442, u'exploratorium-after-dark-san-francisco-2': 4.051282051282051}\n"
       ]
      }
     ],
     "prompt_number": 9
    },
    {
     "cell_type": "code",
     "collapsed": false,
     "input": [
      "x_list = []\n",
      "y_list = []\n",
      "for bar in ave_local_rating:\n",
      "    x_list.append(ave_local_rating[bar])\n",
      "    y_list.append(ave_tourist_rating[bar])\n",
      "print numpy.median(x_list)\n",
      "print numpy.median(y_list)\n",
      "    \n",
      "x = numpy.array(x_list)\n",
      "y = numpy.array(y_list)\n",
      "\n",
      "fig = plt.figure()\n",
      "ax1 = plt.subplot(111)#, aspect = 0.294)\n",
      "ax1.plot(x,y, 'go')#, label=r'$\\Lambda =$ 20')\n",
      "ax1.vlines(numpy.median(x_list), 2.5, 4.5, colors='b', linestyles='solid', linewidth=2.0)\n",
      "ax1.hlines(numpy.median(y_list), 2.5, 4.5, colors='b', linestyles='solid', linewidth=2.0)\n",
      "\n",
      "v = [2.5, 4.5, 2.5, 4.5]\n",
      "ax1.axis(v)\n",
      "ax1.plot()\n",
      "plt.show()  "
     ],
     "language": "python",
     "metadata": {},
     "outputs": []
    },
    {
     "cell_type": "code",
     "collapsed": false,
     "input": [
      "rated_bars = {}\n",
      "if True:\n",
      "    for key in location_ratios:\n",
      "        if location_ratios[key][0] < 0.6:\n",
      "            bar_dict['/biz/' + key]['local_rating'] = 1\n",
      "            rated_bars['/biz/' + key] = bar_dict['/biz/' + key]\n",
      "            continue\n",
      "        if location_ratios[key][0] < 0.9:\n",
      "            bar_dict['/biz/' + key]['local_rating'] = 2\n",
      "            rated_bars['/biz/' + key] = bar_dict['/biz/' + key]\n",
      "            continue    \n",
      "        if location_ratios[key][0] < 1.1:\n",
      "            bar_dict['/biz/' + key]['local_rating'] = 3\n",
      "            rated_bars['/biz/' + key] = bar_dict['/biz/' + key]\n",
      "            continue   \n",
      "        if location_ratios[key][0] < 1.3:\n",
      "            bar_dict['/biz/' + key]['local_rating'] = 4\n",
      "            rated_bars['/biz/' + key] = bar_dict['/biz/' + key]\n",
      "            continue   \n",
      "        if location_ratios[key][0] < 3:\n",
      "            bar_dict['/biz/' + key]['local_rating'] = 5\n",
      "            rated_bars['/biz/' + key] = bar_dict['/biz/' + key]\n",
      "\n",
      "with open('../processed/bars_nb_rated_prelim.json', 'w') as outfile:\n",
      "    json.dump(rated_bars, outfile, indent=2)\n",
      "  "
     ],
     "language": "python",
     "metadata": {},
     "outputs": [],
     "prompt_number": 44
    },
    {
     "cell_type": "code",
     "collapsed": false,
     "input": [
      "bars = bar_dict.keys()\n",
      "rated_bars = {}\n",
      "for bar in bars:\n",
      "    if bar_dict[bar]['local_rating'] > 0:\n",
      "        rated_bars[bar] = bar_dict[bar]\n",
      "        \n",
      "print len(rated_bars)\n",
      "print rated_bars"
     ],
     "language": "python",
     "metadata": {},
     "outputs": [
      {
       "ename": "KeyError",
       "evalue": "'local_rating'",
       "output_type": "pyerr",
       "traceback": [
        "\u001b[0;31m---------------------------------------------------------------------------\u001b[0m\n\u001b[0;31mKeyError\u001b[0m                                  Traceback (most recent call last)",
        "\u001b[0;32m<ipython-input-34-9080bea5d09e>\u001b[0m in \u001b[0;36m<module>\u001b[0;34m()\u001b[0m\n\u001b[1;32m      2\u001b[0m \u001b[0mrated_bars\u001b[0m \u001b[0;34m=\u001b[0m \u001b[0;34m{\u001b[0m\u001b[0;34m}\u001b[0m\u001b[0;34m\u001b[0m\u001b[0m\n\u001b[1;32m      3\u001b[0m \u001b[0;32mfor\u001b[0m \u001b[0mbar\u001b[0m \u001b[0;32min\u001b[0m \u001b[0mbars\u001b[0m\u001b[0;34m:\u001b[0m\u001b[0;34m\u001b[0m\u001b[0m\n\u001b[0;32m----> 4\u001b[0;31m     \u001b[0;32mif\u001b[0m \u001b[0mbar_dict\u001b[0m\u001b[0;34m[\u001b[0m\u001b[0mbar\u001b[0m\u001b[0;34m]\u001b[0m\u001b[0;34m[\u001b[0m\u001b[0;34m'local_rating'\u001b[0m\u001b[0;34m]\u001b[0m \u001b[0;34m>\u001b[0m \u001b[0;36m0\u001b[0m\u001b[0;34m:\u001b[0m\u001b[0;34m\u001b[0m\u001b[0m\n\u001b[0m\u001b[1;32m      5\u001b[0m         \u001b[0mrated_bars\u001b[0m\u001b[0;34m[\u001b[0m\u001b[0mbar\u001b[0m\u001b[0;34m]\u001b[0m \u001b[0;34m=\u001b[0m \u001b[0mbar_dict\u001b[0m\u001b[0;34m[\u001b[0m\u001b[0mbar\u001b[0m\u001b[0;34m]\u001b[0m\u001b[0;34m\u001b[0m\u001b[0m\n\u001b[1;32m      6\u001b[0m \u001b[0;34m\u001b[0m\u001b[0m\n",
        "\u001b[0;31mKeyError\u001b[0m: 'local_rating'"
       ]
      }
     ],
     "prompt_number": 34
    },
    {
     "cell_type": "code",
     "collapsed": false,
     "input": [
      "ratios = [location_ratios[bar][0] for bar in location_ratios.keys()]\n",
      "ratios.sort()\n",
      "print ratios\n",
      "print numpy.median(numpy.array(ratios))\n",
      "\n"
     ],
     "language": "python",
     "metadata": {},
     "outputs": [
      {
       "output_type": "stream",
       "stream": "stdout",
       "text": [
        "[0.30327868852459017, 0.32558139534883723, 0.4350282485875706, 0.5551181102362205, 0.6333333333333333, 0.6521739130434783, 0.7142857142857143, 0.7272727272727273, 0.7862068965517242, 0.8478260869565217, 0.8947368421052632, 0.8958333333333334, 0.9436619718309859, 0.9440993788819876, 0.9813432835820896, 1.0422535211267605, 1.0701754385964912, 1.0886075949367089, 1.1481481481481481, 1.171875, 1.205128205128205, 1.2105263157894737, 1.3150684931506849, 1.3265306122448979, 1.3267045454545454, 1.3982300884955752, 1.4, 1.525, 2.3225806451612905]\n",
        "0.981343283582\n"
       ]
      }
     ],
     "prompt_number": 13
    },
    {
     "cell_type": "code",
     "collapsed": false,
     "input": [
      "plt.hist(ratios)#,bins=[0,0.75,1.5,max(ratios)])\n",
      "plt.show()"
     ],
     "language": "python",
     "metadata": {},
     "outputs": [],
     "prompt_number": 11
    },
    {
     "cell_type": "code",
     "collapsed": false,
     "input": [
      "\n",
      "\n",
      "fig = plt.figure()\n",
      "ax1 = plt.subplot(111)#, aspect = 0.294)\n",
      "#ax1.plot(range(len(ratios)), ratios, 'bo')#, label=r'$\\Lambda =$ 20')\n",
      "ax1.vlines(range(len(ratios)), [0], ratios, colors='b', linestyles='solid', linewidth=2.0)\n",
      "ax2 = plt.subplot(121)\n",
      "ax2.vlines(range(len(ratios)), [0], ratios, colors='b', linestyles='solid', linewidth=2.0)\n",
      "\n",
      "#plt.semilogy(800, 2.39, 'gh')                                                                                                                             \n",
      "#ax1.set_xlabel(r'$R^{-1}$ [GeV]')\n",
      "#ax1.set_ylabel(r'$\\sigma_{prod}$ [fb]')\n",
      "#plt(396, 0.7, color='black'                                                                                                                               \n",
      "#ax1.legend(loc = 0, numpoints = 1)\n",
      "#v = [0, 3, 0, 1700]\n",
      "#ax1.axis(v)\n",
      "\n",
      "plt.show()                                                                                                                                                \n",
      "#pylab.savefig(fig_dir + 'xsec_v_Rinv.png')"
     ],
     "language": "python",
     "metadata": {},
     "outputs": [],
     "prompt_number": 14
    },
    {
     "cell_type": "code",
     "collapsed": false,
     "input": [
      "ratings = {}\n",
      "\n",
      "for bar in location_ratios.keys():\n",
      "    ratings[bar] = {'local' : [], 'tourist' : []}\n",
      "    for user in bar_reviews[bar]:\n",
      "        if bar_reviews[bar][user]['user_location'] == 'San Francisco, CA':\n",
      "            ratings[bar]['local'].append(bar_reviews[bar][user]['user_rating'])\n",
      "        else:\n",
      "            ratings[bar]['tourist'].append(bar_reviews[bar][user]['user_rating'])\n",
      "figure()\n",
      "pylab.ylim([0,1])\n",
      "hist(ratings['gold-dust-lounge-san-francisco-3']['local'],normed=True,bins=[1,2,3,4,5,6])\n",
      "figure()\n",
      "pylab.ylim([0,1])\n",
      "hist(ratings['gold-dust-lounge-san-francisco-3']['tourist'],normed=True,bins=[1,2,3,4,5,6])\n",
      "\n",
      "figure()\n",
      "pylab.ylim([0,1])\n",
      "hist(ratings['the-square-bar-and-kitchen-san-francisco']['local'],normed=True,bins=[1,2,3,4,5,6])\n",
      "figure()\n",
      "pylab.ylim([0,1])\n",
      "hist(ratings['the-square-bar-and-kitchen-san-francisco']['tourist'],normed=True,bins=[1,2,3,4,5,6])"
     ],
     "language": "python",
     "metadata": {},
     "outputs": [
      {
       "metadata": {},
       "output_type": "pyout",
       "prompt_number": 117,
       "text": [
        "(array([ 0.06451613,  0.09677419,  0.        ,  0.29032258,  0.5483871 ]),\n",
        " array([1, 2, 3, 4, 5, 6]),\n",
        " <a list of 5 Patch objects>)"
       ]
      }
     ],
     "prompt_number": 117
    },
    {
     "cell_type": "code",
     "collapsed": false,
     "input": [],
     "language": "python",
     "metadata": {},
     "outputs": []
    }
   ],
   "metadata": {}
  }
 ]
}