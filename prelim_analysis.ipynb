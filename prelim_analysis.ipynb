{
 "metadata": {
  "name": "",
  "signature": "sha256:39f0247b34d617387f3ff5dfc0ea1c2ad22447251875b7a7a9a2d91381a7a0f4"
 },
 "nbformat": 3,
 "nbformat_minor": 0,
 "worksheets": [
  {
   "cells": [
    {
     "cell_type": "code",
     "collapsed": false,
     "input": [
      "import re\n",
      "import sys\n",
      "import json\n",
      "import time\n",
      "import glob\n",
      "import random\n",
      "import numpy\n",
      "import pylab\n",
      "import matplotlib.pyplot as plt"
     ],
     "language": "python",
     "metadata": {},
     "outputs": [],
     "prompt_number": 2
    },
    {
     "cell_type": "code",
     "collapsed": false,
     "input": [
      "json_bars = './processed/bars_nb.json'\n",
      "\n",
      "bar_dict = json.loads(open(json_bars).read())\n",
      "bar_reviews = {}\n",
      "for key in bar_dict:\n",
      "    fname = bar_dict[key]['file_name']\n",
      "    json_reviews = './processed/' + fname + '_nb.json'\n",
      "    try:\n",
      "        bar_reviews[fname] = json.loads(open(json_reviews).read())\n",
      "    except IOError:\n",
      "        sys.stdout.write('File not found. Skipping %s\\n' % fname)"
     ],
     "language": "python",
     "metadata": {},
     "outputs": [
      {
       "output_type": "stream",
       "stream": "stdout",
       "text": [
        "File not found. Skipping antologia-vinoteca-san-francisco-2\n",
        "File not found. Skipping don-pistos-san-francisco-2\n"
       ]
      },
      {
       "output_type": "stream",
       "stream": "stdout",
       "text": [
        "File not found. Skipping beer-39-san-francisco\n",
        "File not found. Skipping tupelo-san-francisco\n",
        "File not found. Skipping naked-lunch-san-francisco\n",
        "File not found. Skipping tope-san-francisco\n",
        "File not found. Skipping the-saloon-san-francisco\n",
        "File not found. Skipping horizon-restaurant-and-lounge-san-francisco\n",
        "File not found. Skipping the-condor-club-san-francisco\n"
       ]
      }
     ],
     "prompt_number": 8
    },
    {
     "cell_type": "code",
     "collapsed": false,
     "input": [
      "#Check number of user reviews matches number of reviews for bar\n",
      "complete_reviews = set()\n",
      "bars = bar_reviews.keys()\n",
      "for bar in bars:\n",
      "    if bar_dict['/biz/' + bar]['bar_num_reviews'] == len(bar_reviews[bar]):\n",
      "        complete_reviews.add(bar)\n",
      "num_bars_complete = len(complete_reviews)\n",
      "#print num_bars_complete"
     ],
     "language": "python",
     "metadata": {},
     "outputs": [
      {
       "output_type": "stream",
       "stream": "stdout",
       "text": [
        "31\n"
       ]
      }
     ],
     "prompt_number": 70
    },
    {
     "cell_type": "code",
     "collapsed": false,
     "input": [
      "#Look at number of SF reviewers to number of nonSF reviewers\n",
      "location_ratios = {}\n",
      "count = 0\n",
      "for bar in complete_reviews:\n",
      "    users = bar_reviews[bar].keys()\n",
      "    if len(users) < 10:\n",
      "        continue\n",
      "    count += 1\n",
      "    local = 0\n",
      "    for user in users:\n",
      "        if bar_reviews[bar][user]['user_location'] == 'San Francisco, CA':\n",
      "            local += 1\n",
      "    ratio = float(local) / (len(users)-local)\n",
      "    location_ratios[bar] = (ratio, local, len(users) - local)\n",
      "    print \"%.2f, (%d, %d) %s\" % (location_ratios[bar][0], location_ratios[bar][1], location_ratios[bar][2], bar)\n",
      "print count"
     ],
     "language": "python",
     "metadata": {},
     "outputs": [
      {
       "output_type": "stream",
       "stream": "stdout",
       "text": [
        "0.33, (28, 86) gold-dust-lounge-san-francisco-3\n",
        "1.21, (115, 95) amante-san-francisco\n",
        "1.04, (148, 142) columbus-cafe-san-francisco\n",
        "0.56, (141, 254) forbes-island-san-francisco\n",
        "1.17, (150, 128) church-key-san-francisco\n",
        "0.44, (77, 177) atmosphere-san-francisco\n",
        "0.73, (48, 66) gino-and-carlo-cocktail-lounge-san-francisco\n",
        "0.90, (129, 144) bamboo-hut-san-francisco\n",
        "0.94, (67, 71) monroe-san-francisco\n",
        "0.94, (152, 161) capos-san-francisco\n",
        "1.07, (61, 57) sweeties-san-francisco\n",
        "1.33, (130, 98) grant-and-green-saloon-san-francisco\n",
        "1.40, (196, 140) rosewood-san-francisco\n",
        "1.33, (467, 352) 15-romolo-san-francisco\n",
        "0.89, (34, 38) penthouse-club-and-restaurant-san-francisco\n",
        "1.21, (94, 78) tosca-cafe-san-francisco-3\n",
        "0.71, (35, 49) carbon-san-francisco\n",
        "1.32, (96, 73) cafe-francisco-san-francisco-2\n",
        "0.79, (114, 145) fog-city-san-francisco-2\n",
        "2.32, (72, 31) the-square-bar-and-kitchen-san-francisco\n",
        "1.40, (158, 113) northstar-cafe-san-francisco\n",
        "0.98, (263, 268) bocce-cafe-san-francisco\n",
        "0.65, (30, 46) international-sports-club-san-francisco\n",
        "1.52, (122, 80) savoy-tivoli-san-francisco-2\n",
        "0.63, (76, 120) capps-corner-san-francisco\n",
        "1.15, (31, 27) hawaii-west-san-francisco\n",
        "0.30, (37, 122) knuckles-at-the-wharf-san-francisco-2\n",
        "1.09, (344, 316) piperade-san-francisco\n",
        "0.85, (39, 46) exploratorium-after-dark-san-francisco-2\n",
        "29\n"
       ]
      }
     ],
     "prompt_number": 115
    },
    {
     "cell_type": "code",
     "collapsed": false,
     "input": [
      "ratios = [location_ratios[bar][0] for bar in location_ratios.keys()]\n",
      "figure()\n",
      "hist(ratios,bins=[0,0.75,1.5,max(ratios)])"
     ],
     "language": "python",
     "metadata": {},
     "outputs": [
      {
       "metadata": {},
       "output_type": "pyout",
       "prompt_number": 112,
       "text": [
        "(array([  8.,  19.,   2.]),\n",
        " array([ 0.        ,  0.75      ,  1.5       ,  2.32258065]),\n",
        " <a list of 3 Patch objects>)"
       ]
      }
     ],
     "prompt_number": 112
    },
    {
     "cell_type": "code",
     "collapsed": false,
     "input": [
      "ratings = {}\n",
      "\n",
      "for bar in location_ratios.keys():\n",
      "    ratings[bar] = {'local' : [], 'tourist' : []}\n",
      "    for user in bar_reviews[bar]:\n",
      "        if bar_reviews[bar][user]['user_location'] == 'San Francisco, CA':\n",
      "            ratings[bar]['local'].append(bar_reviews[bar][user]['user_rating'])\n",
      "        else:\n",
      "            ratings[bar]['tourist'].append(bar_reviews[bar][user]['user_rating'])\n",
      "figure()\n",
      "pylab.ylim([0,1])\n",
      "hist(ratings['gold-dust-lounge-san-francisco-3']['local'],normed=True,bins=[1,2,3,4,5,6])\n",
      "figure()\n",
      "pylab.ylim([0,1])\n",
      "hist(ratings['gold-dust-lounge-san-francisco-3']['tourist'],normed=True,bins=[1,2,3,4,5,6])\n",
      "\n",
      "figure()\n",
      "pylab.ylim([0,1])\n",
      "hist(ratings['the-square-bar-and-kitchen-san-francisco']['local'],normed=True,bins=[1,2,3,4,5,6])\n",
      "figure()\n",
      "pylab.ylim([0,1])\n",
      "hist(ratings['the-square-bar-and-kitchen-san-francisco']['tourist'],normed=True,bins=[1,2,3,4,5,6])"
     ],
     "language": "python",
     "metadata": {},
     "outputs": [
      {
       "metadata": {},
       "output_type": "pyout",
       "prompt_number": 117,
       "text": [
        "(array([ 0.06451613,  0.09677419,  0.        ,  0.29032258,  0.5483871 ]),\n",
        " array([1, 2, 3, 4, 5, 6]),\n",
        " <a list of 5 Patch objects>)"
       ]
      }
     ],
     "prompt_number": 117
    },
    {
     "cell_type": "code",
     "collapsed": false,
     "input": [],
     "language": "python",
     "metadata": {},
     "outputs": []
    }
   ],
   "metadata": {}
  }
 ]
}