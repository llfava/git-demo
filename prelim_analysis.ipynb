{
 "metadata": {
  "name": "",
  "signature": "sha256:39f0247b34d617387f3ff5dfc0ea1c2ad22447251875b7a7a9a2d91381a7a0f4"
 },
 "nbformat": 3,
 "nbformat_minor": 0,
 "worksheets": [
  {
   "cells": [
    {
     "cell_type": "code",
     "collapsed": false,
     "input": [
      "import re\n",
      "import sys\n",
      "import json\n",
      "import time\n",
      "import glob\n",
      "import random\n",
      "import numpy\n",
      "import pylab\n",
      "import matplotlib.pyplot as plt"
     ],
     "language": "python",
     "metadata": {},
     "outputs": [],
     "prompt_number": 1
    },
    {
     "cell_type": "code",
     "collapsed": false,
     "input": [
      "bar_reviews = {}"
     ],
     "language": "python",
     "metadata": {},
     "outputs": [],
     "prompt_number": 2
    },
    {
     "cell_type": "code",
     "collapsed": false,
     "input": [
      "json_bars = '/Users/ldaniel/git-demo/processed/bars_nb.json'\n",
      "\n",
      "\n",
      "bar_dict = json.loads(open(json_bars).read())\n",
      "bar_reviews = {}\n",
      "for key in bar_dict:\n",
      "    fname = bar_dict[key]['file_name']\n",
      "    json_reviews = '/Users/ldaniel/git-demo/processed/' + fname + '_nb.json'\n",
      "    bar_reviews[fname] = json.loads(open(json_reviews).read())\n",
      "  \n",
      "  "
     ],
     "language": "python",
     "metadata": {},
     "outputs": [],
     "prompt_number": 3
    },
    {
     "cell_type": "code",
     "collapsed": false,
     "input": [
      "#Check number of user reviews matches number of reviews for bar\n",
      "bar_review_count = {}\n",
      "user_review_total = {}\n",
      "review_match = {}\n",
      "complete_reviews = {}\n",
      "\n",
      "for bar in bar_dict:\n",
      "    fname = bar_dict[bar]['file_name']\n",
      "    #print fname\n",
      "    bar_review_count[fname] = bar_dict[bar]['bar_num_reviews']\n",
      "#print bar_review_count\n",
      "\n",
      "for bar in bar_reviews:\n",
      "    user_review_total[bar] = len(bar_reviews[bar])\n",
      "    #print bar\n",
      "#print user_review_total\n",
      "\n",
      "bars = bar_reviews.keys()\n",
      "\n",
      "for bar in bars:\n",
      "    review_match[bar] = bar_review_count[bar] - user_review_total[bar]\n",
      "    if review_match[bar] == 0:\n",
      "        complete_reviews[bar] = review_match[bar]\n",
      "num_bars_complete = len(complete_reviews)\n"
     ],
     "language": "python",
     "metadata": {},
     "outputs": [],
     "prompt_number": 34
    },
    {
     "cell_type": "code",
     "collapsed": false,
     "input": [
      "#Look at number of SF reviewers to number of nonSF reviewers\n",
      "bars = complete_reviews.keys()\n",
      "locations = []\n",
      "loc_dict = {}\n",
      "loc_ratios = {}\n",
      "for bar in bars:\n",
      "    users = bar_reviews[bar].keys()\n",
      "    for user in users:\n",
      "        locations.append(bar_reviews[bar][user]['user_location'])\n",
      "    numSF = locations.count('San Francisco, CA')\n",
      "    total = len(locations)\n",
      "    nonSF_count = total - numSF\n",
      "    location_ratio = round((float(numSF)/float(nonSF_count)),3)\n",
      "    loc_ratios[bar] = location_ratio\n",
      "    loc_dict[bar] = locations\n",
      "    break"
     ],
     "language": "python",
     "metadata": {},
     "outputs": []
    },
    {
     "cell_type": "code",
     "collapsed": false,
     "input": [
      "#Look at location ratio distributions\n",
      "ratios = []\n",
      "bar_names = []\n",
      "for bar in bars:\n",
      "    ratios.append(loc_ratios[bar])\n",
      "    bar_names.append(bar)\n",
      "\n",
      "loc_ratio = numpy.array(ratios)\n",
      "\n",
      "print bar_names\n",
      "print loc_ratio\n",
      "print len(loc_ratio)\n",
      "x_axis = numpy.array(range(0,31))\n",
      "print x_axis"
     ],
     "language": "python",
     "metadata": {},
     "outputs": [
      {
       "output_type": "stream",
       "stream": "stdout",
       "text": [
        "[u'gold-dust-lounge-san-francisco-3', u'amante-san-francisco', u'columbus-cafe-san-francisco', u'forbes-island-san-francisco', u'church-key-san-francisco', u'atmosphere-san-francisco', u'gino-and-carlo-cocktail-lounge-san-francisco', u'bamboo-hut-san-francisco', u'monroe-san-francisco', u'capos-san-francisco', u'sweeties-san-francisco', u'grant-and-green-saloon-san-francisco', u'rosewood-san-francisco', u'15-romolo-san-francisco', u'penthouse-club-and-restaurant-san-francisco', u'tosca-cafe-san-francisco-3', u'carbon-san-francisco', u'cafe-francisco-san-francisco-2', u'fog-city-san-francisco-2', u'the-square-bar-and-kitchen-san-francisco', u'northstar-cafe-san-francisco', u'bocce-cafe-san-francisco', u'international-sports-club-san-francisco', u'savoy-tivoli-san-francisco-2', u'players-tiki-bar-san-francisco', u'capps-corner-san-francisco', u'hawaii-west-san-francisco', u'knuckles-at-the-wharf-san-francisco-2', u'beer-olympics-san-francisco', u'piperade-san-francisco', u'exploratorium-after-dark-san-francisco-2']\n",
        "[ 0.326  0.79   0.901  0.749  0.826  0.747  0.746  0.766  0.776  0.797\n",
        "  0.808  0.842  0.891  0.969  0.967  0.976  0.97   0.981  0.969  0.987\n",
        "  1.006  1.003  0.998  1.012  1.012  0.997  0.999  0.972  0.972  0.982\n",
        "  0.98 ]\n",
        "31\n",
        "[ 0  1  2  3  4  5  6  7  8  9 10 11 12 13 14 15 16 17 18 19 20 21 22 23 24\n",
        " 25 26 27 28 29 30]\n"
       ]
      }
     ],
     "prompt_number": 38
    },
    {
     "cell_type": "code",
     "collapsed": false,
     "input": [
      "fig = plt.figure()\n",
      "ax1 = plt.subplot(111)#, aspect = 0.294)\n",
      "ax1.plot(x_axis, loc_ratio, 'bo')#, label=r'$\\Lambda =$ 20')\n",
      "#ax1.plot(800, 1641, 'r^', label=r'$\\Lambda =$ 5')\n",
      "#ax1.set_xlabel(')\n",
      "#ax1.vlines(x_axis, [0], loc_ratio)\n",
      "ax1.set_ylabel('SF reviewers vs. others')\n",
      "#ax1.legend(loc = 0, numpoints = 1)\n",
      "ha = ['center', 'right']\n",
      "#ax1.set_xticklabels(bar_names, rotation=40, ha=ha[1])\n",
      "v = [0, 30, 0.5, 1.5]\n",
      "ax1.axis(v)\n",
      "\n",
      "plt.show()                                                                                                         \n",
      "#pylab.savefig('sf_ratios_test.png')\n",
      "\n"
     ],
     "language": "python",
     "metadata": {},
     "outputs": []
    },
    {
     "cell_type": "code",
     "collapsed": false,
     "input": [],
     "language": "python",
     "metadata": {},
     "outputs": []
    }
   ],
   "metadata": {}
  }
 ]
}